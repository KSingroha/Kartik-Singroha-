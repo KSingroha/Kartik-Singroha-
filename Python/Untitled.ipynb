{
 "cells": [
  {
   "cell_type": "code",
   "execution_count": 1,
   "id": "2d37c416-b2be-4249-8b88-d2882c3a0391",
   "metadata": {},
   "outputs": [
    {
     "ename": "SyntaxError",
     "evalue": "incomplete input (4277160540.py, line 1)",
     "output_type": "error",
     "traceback": [
      "\u001b[1;36m  Cell \u001b[1;32mIn[1], line 1\u001b[1;36m\u001b[0m\n\u001b[1;33m    print(\"kartik singroha)\"\u001b[0m\n\u001b[1;37m                            ^\u001b[0m\n\u001b[1;31mSyntaxError\u001b[0m\u001b[1;31m:\u001b[0m incomplete input\n"
     ]
    }
   ],
   "source": [
    "print(\"kartik singroha)\""
   ]
  },
  {
   "cell_type": "code",
   "execution_count": 2,
   "id": "646fd3e3-142b-41e4-8abb-45235cf784ba",
   "metadata": {},
   "outputs": [
    {
     "name": "stdout",
     "output_type": "stream",
     "text": [
      "kartik singroha\n"
     ]
    }
   ],
   "source": [
    "print(\"kartik singroha\")"
   ]
  },
  {
   "cell_type": "markdown",
   "id": "ce0bc15e-37c3-4a14-aacc-fbf68689dc1b",
   "metadata": {},
   "source": [
    "Kartik singroha is a resindence of jamni village.\n"
   ]
  },
  {
   "cell_type": "code",
   "execution_count": 3,
   "id": "59cce554-6ba5-402a-a8b5-d22b25617e40",
   "metadata": {},
   "outputs": [
    {
     "name": "stdout",
     "output_type": "stream",
     "text": [
      "JAAT\n"
     ]
    }
   ],
   "source": [
    "print(\"JAAT\")"
   ]
  },
  {
   "cell_type": "code",
   "execution_count": null,
   "id": "810f7322-411c-4de4-b363-e4bfd38e1ea5",
   "metadata": {},
   "outputs": [],
   "source": []
  },
  {
   "cell_type": "code",
   "execution_count": 4,
   "id": "785d2351-809d-431e-ab76-a35dea079127",
   "metadata": {},
   "outputs": [
    {
     "name": "stdout",
     "output_type": "stream",
     "text": [
      "JAAT\n"
     ]
    }
   ],
   "source": [
    "print(\"JAAT\")\n"
   ]
  },
  {
   "cell_type": "code",
   "execution_count": null,
   "id": "3c75575d-4e8d-458c-aff3-66183789a3a9",
   "metadata": {},
   "outputs": [],
   "source": []
  }
 ],
 "metadata": {
  "kernelspec": {
   "display_name": "Python 3 (ipykernel)",
   "language": "python",
   "name": "python3"
  },
  "language_info": {
   "codemirror_mode": {
    "name": "ipython",
    "version": 3
   },
   "file_extension": ".py",
   "mimetype": "text/x-python",
   "name": "python",
   "nbconvert_exporter": "python",
   "pygments_lexer": "ipython3",
   "version": "3.11.7"
  }
 },
 "nbformat": 4,
 "nbformat_minor": 5
}
